{
 "cells": [
  {
   "cell_type": "code",
   "execution_count": 49,
   "metadata": {
    "collapsed": true
   },
   "outputs": [],
   "source": [
    "import numpy as np\n",
    "from astropy.stats import LombScargle\n",
    "import csv\n",
    "import scipy.io as sio\n",
    "import matplotlib.pyplot as plt  \n",
    "\n",
    "mat_contents = sio.loadmat('/home/aldo/Documents/Projects/Avtivemeter/Data/code_cruze_paper/Re actimetry/data_acti_4days.mat')\n",
    "\n",
    "t = mat_contents['tt_4']\n",
    "y = mat_contents['yy_4']\n",
    "\n",
    "t = t.flatten()\n",
    "y = y.flatten()\n",
    "dy = 0.001\n",
    "\n",
    "ls = LombScargle(t, y, dy)\n",
    "freq, power = ls.autopower(samples_per_peak = 100)\n"
   ]
  },
  {
   "cell_type": "code",
   "execution_count": 50,
   "metadata": {
    "collapsed": true
   },
   "outputs": [],
   "source": [
    "import numpy as np\n",
    "sio.savemat('/home/aldo/Documents/Projects/Avtivemeter/Data/code_cruze_paper/Re actimetry/freq.mat', {'freq':freq})\n",
    "sio.savemat('/home/aldo/Documents/Projects/Avtivemeter/Data/code_cruze_paper/Re actimetry/power.mat', {'power':power})"
   ]
  },
  {
   "cell_type": "code",
   "execution_count": 51,
   "metadata": {},
   "outputs": [],
   "source": [
    "t_freq = 1/freq\n",
    "times = t_freq[np.logical_and(t_freq>=1140, t_freq<=1680)]\n",
    "#print(times)\n",
    "powers = power[np.logical_and(t_freq>=1140, t_freq<=1680)]\n",
    "#print(powers)"
   ]
  },
  {
   "cell_type": "code",
   "execution_count": 52,
   "metadata": {
    "scrolled": false
   },
   "outputs": [
    {
     "name": "stdout",
     "output_type": "stream",
     "text": [
      "[65]\n",
      "[ 0.02294954]\n",
      "[ 1409.79192166]\n"
     ]
    }
   ],
   "source": [
    "from scipy.signal import find_peaks\n",
    "yyy = find_peaks(powers)\n",
    "print(yyy[0])\n",
    "print(powers[yyy[0]])\n",
    "print(times[yyy[0]])   "
   ]
  },
  {
   "cell_type": "code",
   "execution_count": 53,
   "metadata": {},
   "outputs": [
    {
     "data": {
      "text/plain": [
       "array([  1.36281565e-25])"
      ]
     },
     "execution_count": 53,
     "metadata": {},
     "output_type": "execute_result"
    }
   ],
   "source": [
    "power_circ = powers[yyy[0]]\n",
    "ls.false_alarm_probability(power_circ, method='naive')  "
   ]
  },
  {
   "cell_type": "code",
   "execution_count": 54,
   "metadata": {},
   "outputs": [
    {
     "data": {
      "image/png": "[encoded data removed]",
      "text/plain": [
       "<Figure size 432x288 with 1 Axes>"
      ]
     },
     "metadata": {},
     "output_type": "display_data"
    }
   ],
   "source": [
    "plt.plot(times,powers)\n",
    "plt.show()"
   ]
  },
  {
   "cell_type": "code",
   "execution_count": null,
   "metadata": {
    "collapsed": true
   },
   "outputs": [],
   "source": []
  }
 ],
 "metadata": {
  "kernelspec": {
   "display_name": "Python 2",
   "language": "python",
   "name": "python2"
  },
  "language_info": {
   "codemirror_mode": {
    "name": "ipython",
    "version": 3
   },
   "file_extension": ".py",
   "mimetype": "text/x-python",
   "name": "python",
   "nbconvert_exporter": "python",
   "pygments_lexer": "ipython3",
   "version": "3.5.5"
  }
 },
 "nbformat": 4,
 "nbformat_minor": 2
}
