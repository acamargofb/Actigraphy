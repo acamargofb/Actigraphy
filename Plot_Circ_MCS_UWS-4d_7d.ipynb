{
 "cells": [
  {
   "cell_type": "markdown",
   "metadata": {},
   "source": [
    "# Plot of Circadian results"
   ]
  },
  {
   "cell_type": "code",
   "execution_count": 5,
   "metadata": {},
   "outputs": [],
   "source": [
    "import seaborn as sns\n",
    "import matplotlib.pyplot as plt\n",
    "import scipy.io\n",
    "import pandas as pd\n",
    "import numpy as np\n",
    "from numpy import genfromtxt\n",
    "from pandas import read_csv"
   ]
  },
  {
   "cell_type": "markdown",
   "metadata": {},
   "source": [
    "## Loading the data"
   ]
  },
  {
   "cell_type": "code",
   "execution_count": 6,
   "metadata": {},
   "outputs": [],
   "source": [
    "data = read_csv('/home/aldo/Documents/Projects/Avtivemeter/CSV_Results/csv_Result_4Methods_crs_r_no_acute_ultradian_clean.csv')"
   ]
  },
  {
   "cell_type": "code",
   "execution_count": 7,
   "metadata": {},
   "outputs": [
    {
     "name": "stdout",
     "output_type": "stream",
     "text": [
      "         Filename                 Name gender Diagnosis     TBI   Etiology  \\\n",
      "0  MCS_p_01_mtn_   Carsauw Christianne      f       MCS  NonTBI  hemmorage   \n",
      "1  MCS_p_02_mtn_          Ababou Hamid      m       MCS  NonTBI     anoxia   \n",
      "2  MCS_p_03_mtn_           Amalvy Axel      m       MCS     TBI     trauma   \n",
      "3  MCS_p_04_mtn_         Bohon Barbara      f       MCS     TBI     trauma   \n",
      "4  MCS_p_05_mtn_    Parrotto Pierluigi      m       MCS     TBI     trauma   \n",
      "\n",
      "  File_type        dob     insult  age_days       ...         \\\n",
      "0       MTN  2/26/1950  5/15/2016   24185.0       ...          \n",
      "1       MTN  7/18/1960  4/25/2014   19639.0       ...          \n",
      "2       MTN  5/23/1996  7/30/2014    6642.0       ...          \n",
      "3       MTN  12/4/1996  5/20/2015    6741.0       ...          \n",
      "4       MTN  2/10/1990  7/11/2016    9648.0       ...          \n",
      "\n",
      "   Ultr5d_p_value_Lomb  Sig_Ultr5d_LombS  Ultr6d_Lomb  Ultr6d_Power_Lomb  \\\n",
      "0         1.349800e-08               Yes       52.693             22.610   \n",
      "1         1.877200e-14               Yes       76.303             30.576   \n",
      "2         9.805600e-03               Yes          NaN                NaN   \n",
      "3         1.999000e-08               Yes          NaN                NaN   \n",
      "4         2.182400e-10               Yes       43.182             17.582   \n",
      "\n",
      "   Ultr6d_p_value_Lomb  Sig_Ultr6d_LombS  Ultr7d_Lomb  Ultr7d_Power_Lomb  \\\n",
      "0         1.200500e-07               Yes          NaN                NaN   \n",
      "1         4.167000e-11               Yes          NaN                NaN   \n",
      "2                  NaN               NaN          NaN                NaN   \n",
      "3                  NaN               NaN          NaN                NaN   \n",
      "4         1.831100e-05               Yes          NaN                NaN   \n",
      "\n",
      "  Ultr7d_p_value_Lomb Sig_Ultr7d_LombS  \n",
      "0                 NaN              Yes  \n",
      "1                 NaN              Yes  \n",
      "2                 NaN              NaN  \n",
      "3                 NaN              NaN  \n",
      "4                 NaN              NaN  \n",
      "\n",
      "[5 rows x 78 columns]\n"
     ]
    }
   ],
   "source": [
    "print(data.head(5))\n"
   ]
  },
  {
   "cell_type": "markdown",
   "metadata": {},
   "source": [
    "## Error bar plot of MCS and UWS considering the data from the csv file"
   ]
  },
  {
   "cell_type": "code",
   "execution_count": 9,
   "metadata": {},
   "outputs": [
    {
     "data": {
      "image/png": "[encoded data removed]",
      "text/plain": [
       "<Figure size 360x360 with 1 Axes>"
      ]
     },
     "metadata": {},
     "output_type": "display_data"
    }
   ],
   "source": [
    "sns.set_style('darkgrid')\n",
    "sns.catplot(x=\"Diagnosis\", y=\"Power_Lomb4d\", kind=\"bar\", data=data)\n",
    "plt.savefig('/home/aldo/Desktop/errorbar_plot_circadian_mcs_uws_test.jpg')"
   ]
  },
  {
   "cell_type": "markdown",
   "metadata": {},
   "source": [
    "## Error bar plot of MCS, UWS, EMCS, LIS and Control"
   ]
  },
  {
   "cell_type": "code",
   "execution_count": 11,
   "metadata": {},
   "outputs": [
    {
     "data": {
      "text/plain": [
       "<seaborn.axisgrid.FacetGrid at 0x7f2d1fb844d0>"
      ]
     },
     "execution_count": 11,
     "metadata": {},
     "output_type": "execute_result"
    },
    {
     "data": {
      "image/png": "[encoded data removed]",
      "text/plain": [
       "<Figure size 360x360 with 1 Axes>"
      ]
     },
     "metadata": {},
     "output_type": "display_data"
    }
   ],
   "source": [
    "sns.set_style('darkgrid')\n",
    "sns.catplot(x=\"Diagnosis\", y=\"Circ4d_Lomb\", kind=\"box\", data=data)\n",
    "#plt.savefig('/home/aldo/Desktop/bar_plot_circadian_all.jpg')"
   ]
  },
  {
   "cell_type": "code",
   "execution_count": null,
   "metadata": {},
   "outputs": [],
   "source": [
    "ax = sns.boxplot(x=\"Diagnosis\", y=\"Power\", data=result_df)"
   ]
  },
  {
   "cell_type": "code",
   "execution_count": null,
   "metadata": {},
   "outputs": [],
   "source": []
  }
 ],
 "metadata": {
  "kernelspec": {
   "display_name": "Python 2",
   "language": "python",
   "name": "python2"
  },
  "language_info": {
   "codemirror_mode": {
    "name": "ipython",
    "version": 2
   },
   "file_extension": ".py",
   "mimetype": "text/x-python",
   "name": "python",
   "nbconvert_exporter": "python",
   "pygments_lexer": "ipython2",
   "version": "2.7.14"
  }
 },
 "nbformat": 4,
 "nbformat_minor": 2
}
