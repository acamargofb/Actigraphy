{
 "cells": [
  {
   "cell_type": "code",
   "execution_count": 1,
   "metadata": {},
   "outputs": [
    {
     "name": "stdout",
     "output_type": "stream",
     "text": [
      "0.122757671941\n",
      "nan\n"
     ]
    },
    {
     "name": "stderr",
     "output_type": "stream",
     "text": [
      "/home/aldo/anaconda2/envs/Periodogram/lib/python3.5/site-packages/astropy/stats/lombscargle/_statistics.py:246: RuntimeWarning: invalid value encountered in sqrt\n",
      "  Teff = np.sqrt(4 * np.pi * Dt)  # Effective baseline\n"
     ]
    }
   ],
   "source": [
    "import numpy as np\n",
    "from astropy.stats import LombScargle\n",
    "import csv\n",
    "import scipy.io as sio\n",
    "import matplotlib.pyplot as plt  \n",
    "\n",
    "mat_contents = sio.loadmat('/home/aldo/Documents/Projects/Avtivemeter/Data/code_cruze_paper/Re actimetry/data_acti_4days.mat')\n",
    "\n",
    "t = mat_contents['tt_4']\n",
    "y = mat_contents['yy_4']\n",
    "\n",
    "t = t.flatten()\n",
    "y = y.flatten()\n",
    "dy = 0.1\n",
    "\n",
    "ls = LombScargle(t, y, dy)\n",
    "freq, power = ls.autopower()\n",
    "print(power.max()) \n",
    "print(ls.false_alarm_probability(power.max()))\n",
    "\n"
   ]
  },
  {
   "cell_type": "code",
   "execution_count": 2,
   "metadata": {},
   "outputs": [],
   "source": [
    "import numpy as np\n",
    "sio.savemat('/home/aldo/Documents/Projects/Avtivemeter/Data/code_cruze_paper/Re actimetry/freq.mat', {'freq':freq})\n",
    "sio.savemat('/home/aldo/Documents/Projects/Avtivemeter/Data/code_cruze_paper/Re actimetry/power.mat', {'power':power})"
   ]
  },
  {
   "cell_type": "code",
   "execution_count": 3,
   "metadata": {},
   "outputs": [
    {
     "name": "stdout",
     "output_type": "stream",
     "text": [
      "best frequency\n",
      "1.99925334259\n"
     ]
    }
   ],
   "source": [
    "best_frequency = freq[np.argmax(power)]\n",
    "print(\"best frequency\")\n",
    "print(best_frequency)"
   ]
  },
  {
   "cell_type": "code",
   "execution_count": 4,
   "metadata": {},
   "outputs": [
    {
     "data": {
      "text/plain": [
       "0.5001867340646361"
      ]
     },
     "execution_count": 4,
     "metadata": {},
     "output_type": "execute_result"
    }
   ],
   "source": [
    "1/best_frequency"
   ]
  },
  {
   "cell_type": "code",
   "execution_count": 5,
   "metadata": {},
   "outputs": [],
   "source": [
    "dy = 0.1\n",
    "ls  = LombScargle(t,y,dy)"
   ]
  },
  {
   "cell_type": "code",
   "execution_count": 6,
   "metadata": {},
   "outputs": [
    {
     "name": "stdout",
     "output_type": "stream",
     "text": [
      "(array([ 0,  1,  2,  3,  4,  5,  6,  7,  8,  9, 10, 11, 12, 13, 14, 15, 16,\n",
      "       17, 18, 19, 20, 21, 22, 23, 24, 25, 26, 27, 28]),)\n",
      "[ 0.03074096  0.03030061  0.02927569  0.02718089  0.02271362  0.01422595\n",
      "  0.00523523  0.00203228  0.00167405  0.00059131  0.00044114  0.00363079\n",
      "  0.01032918  0.01590968  0.01394629  0.00764018  0.00517956  0.01671007\n",
      "  0.04895224  0.08855857  0.11710854  0.12156914  0.09317713  0.04862272\n",
      "  0.01642984  0.00766594  0.01586478  0.02331834  0.01794906]\n"
     ]
    }
   ],
   "source": [
    "t_freq = 1/freq\n",
    "indx = (t_freq > 1000).nonzero()\n",
    "print(indx)\n",
    "print(power[indx])"
   ]
  },
  {
   "cell_type": "code",
   "execution_count": 7,
   "metadata": {},
   "outputs": [
    {
     "data": {
      "text/plain": [
       "array([ 57590.        ,  19196.66666667,  11518.        ,   8227.14285714,\n",
       "         6398.88888889,   5235.45454545,   4430.        ,   3839.33333333,\n",
       "         3387.64705882,   3031.05263158,   2742.38095238,   2503.91304348,\n",
       "         2303.6       ,   2132.96296296,   1985.86206897,   1857.74193548,\n",
       "         1745.15151515,   1645.42857143,   1556.48648649,   1476.66666667,\n",
       "         1404.63414634,   1339.30232558,   1279.77777778,   1225.31914894,\n",
       "         1175.30612245,   1129.21568627,   1086.60377358,   1047.09090909,\n",
       "         1010.35087719])"
      ]
     },
     "execution_count": 7,
     "metadata": {},
     "output_type": "execute_result"
    }
   ],
   "source": [
    "t_freq.compress((t_freq > 1000).flat)"
   ]
  },
  {
   "cell_type": "code",
   "execution_count": 8,
   "metadata": {},
   "outputs": [
    {
     "name": "stdout",
     "output_type": "stream",
     "text": [
      "[ 1745.15151515  1645.42857143  1556.48648649  1476.66666667  1404.63414634\n",
      "  1339.30232558  1279.77777778  1225.31914894  1175.30612245  1129.21568627\n",
      "  1086.60377358  1047.09090909  1010.35087719]\n",
      "[ 0.00517956  0.01671007  0.04895224  0.08855857  0.11710854  0.12156914\n",
      "  0.09317713  0.04862272  0.01642984  0.00766594  0.01586478  0.02331834\n",
      "  0.01794906]\n"
     ]
    }
   ],
   "source": [
    "times = t_freq[np.logical_and(t_freq>=1000, t_freq<=1800)]\n",
    "print(times)\n",
    "powers = power[np.logical_and(t_freq>=1000, t_freq<=1800)]\n",
    "print(powers)"
   ]
  },
  {
   "cell_type": "code",
   "execution_count": 13,
   "metadata": {},
   "outputs": [
    {
     "name": "stdout",
     "output_type": "stream",
     "text": [
      "[ 5 11]\n",
      "[ 1339.30232558  1047.09090909]\n"
     ]
    }
   ],
   "source": [
    "from scipy.signal import find_peaks\n",
    "yyy = find_peaks(powers)\n",
    "print(yyy[0])\n",
    "print(times[yyy[0]])   "
   ]
  },
  {
   "cell_type": "code",
   "execution_count": 9,
   "metadata": {},
   "outputs": [
    {
     "name": "stdout",
     "output_type": "stream",
     "text": [
      "[13 21 27]\n",
      "[ 2132.96296296  1339.30232558  1047.09090909]\n"
     ]
    }
   ],
   "source": [
    "from scipy.signal import find_peaks\n",
    "yy = find_peaks(power[indx])\n",
    "print(yy[0])\n",
    "print(t_freq[yy[0]])   "
   ]
  },
  {
   "cell_type": "code",
   "execution_count": 10,
   "metadata": {},
   "outputs": [
    {
     "name": "stderr",
     "output_type": "stream",
     "text": [
      "/home/aldo/anaconda2/envs/Periodogram/lib/python3.5/site-packages/astropy/stats/lombscargle/_statistics.py:246: RuntimeWarning: invalid value encountered in sqrt\n",
      "  Teff = np.sqrt(4 * np.pi * Dt)  # Effective baseline\n"
     ]
    },
    {
     "data": {
      "text/plain": [
       "nan"
      ]
     },
     "execution_count": 10,
     "metadata": {},
     "output_type": "execute_result"
    }
   ],
   "source": [
    "power_circ = 0.1216\n",
    "ls.false_alarm_probability(power_circ)"
   ]
  },
  {
   "cell_type": "code",
   "execution_count": null,
   "metadata": {},
   "outputs": [],
   "source": [
    "ls.false_alarm_probability(power_circ, method='bootstrap')\n"
   ]
  },
  {
   "cell_type": "code",
   "execution_count": null,
   "metadata": {},
   "outputs": [],
   "source": [
    "ls.false_alarm_probability(power_circ, method='davies')"
   ]
  },
  {
   "cell_type": "code",
   "execution_count": 11,
   "metadata": {},
   "outputs": [
    {
     "data": {
      "text/plain": [
       "1.1932435148134698e-158"
      ]
     },
     "execution_count": 11,
     "metadata": {},
     "output_type": "execute_result"
    }
   ],
   "source": [
    "ls.false_alarm_probability(power_circ, method='naive')  "
   ]
  },
  {
   "cell_type": "code",
   "execution_count": null,
   "metadata": {
    "collapsed": true
   },
   "outputs": [],
   "source": []
  }
 ],
 "metadata": {
  "kernelspec": {
   "display_name": "Python 3",
   "language": "python",
   "name": "python3"
  },
  "language_info": {
   "codemirror_mode": {
    "name": "ipython",
    "version": 3
   },
   "file_extension": ".py",
   "mimetype": "text/x-python",
   "name": "python",
   "nbconvert_exporter": "python",
   "pygments_lexer": "ipython3",
   "version": "3.5.5"
  }
 },
 "nbformat": 4,
 "nbformat_minor": 2
}
