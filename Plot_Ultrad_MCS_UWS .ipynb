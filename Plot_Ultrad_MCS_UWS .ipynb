{
 "cells": [
  {
   "cell_type": "markdown",
   "metadata": {},
   "source": [
    "# Plot of Ultradian results"
   ]
  },
  {
   "cell_type": "code",
   "execution_count": 1,
   "metadata": {},
   "outputs": [],
   "source": [
    "import seaborn as sns\n",
    "import matplotlib.pyplot as plt\n",
    "import scipy.io\n",
    "import pandas as pd\n",
    "import numpy as np"
   ]
  },
  {
   "cell_type": "markdown",
   "metadata": {},
   "source": [
    "## 1.- Load the data"
   ]
  },
  {
   "cell_type": "code",
   "execution_count": 2,
   "metadata": {},
   "outputs": [],
   "source": [
    "mat = scipy.io.loadmat('/home/aldo/Documents/Projects/Avtivemeter/Data/MCS_UWS_LombScargle_ultradian.mat')"
   ]
  },
  {
   "cell_type": "code",
   "execution_count": 3,
   "metadata": {},
   "outputs": [],
   "source": [
    "mcs = mat['table_results'][0][0][0]\n",
    "uws = mat['table_results'][0][0][1]"
   ]
  },
  {
   "cell_type": "code",
   "execution_count": 4,
   "metadata": {},
   "outputs": [],
   "source": [
    "mcsp = {'Ultradian':mcs[:,0],'Power':mcs[:,1]}\n",
    "uwsp = {'Ultradian':uws[:,0],'Power':uws[:,1]}\n",
    "dfmcs=pd.DataFrame(mcsp)\n",
    "dfuws=pd.DataFrame(uwsp)"
   ]
  },
  {
   "cell_type": "code",
   "execution_count": 5,
   "metadata": {},
   "outputs": [],
   "source": [
    "MCS = np.array('MCS')\n",
    "mcs_list = np.matlib.repmat(MCS,len(mcs),1)\n",
    "UWS = np.array('UWS')\n",
    "uws_list = np.matlib.repmat(UWS,len(uws),1)"
   ]
  },
  {
   "cell_type": "code",
   "execution_count": 6,
   "metadata": {},
   "outputs": [],
   "source": [
    "dfmcs[\"Diagnosis\"] = mcs_list\n",
    "dfuws[\"Diagnosis\"] = uws_list"
   ]
  },
  {
   "cell_type": "code",
   "execution_count": 7,
   "metadata": {},
   "outputs": [],
   "source": [
    "frames = [dfmcs, dfuws]\n",
    "result_df = pd.concat(frames)"
   ]
  },
  {
   "cell_type": "markdown",
   "metadata": {},
   "source": [
    "## 2.- Error bar plot for ultradian of MCS and UWS"
   ]
  },
  {
   "cell_type": "code",
   "execution_count": 8,
   "metadata": {},
   "outputs": [
    {
     "data": {
      "image/png": "[encoded data removed]",
      "text/plain": [
       "<Figure size 360x360 with 1 Axes>"
      ]
     },
     "metadata": {},
     "output_type": "display_data"
    }
   ],
   "source": [
    "sns.set_style('darkgrid')\n",
    "sns.catplot(x=\"Diagnosis\", y=\"Power\", kind=\"bar\", data=result_df)\n",
    "plt.savefig('/home/aldo/Desktop/errorbar_plot_ultradian_MCS_UWS.jpg')"
   ]
  },
  {
   "cell_type": "markdown",
   "metadata": {},
   "source": [
    "## 3.- Load data of ultradian for MCS, UWS, EMCS, LIS and Control"
   ]
  },
  {
   "cell_type": "code",
   "execution_count": 9,
   "metadata": {},
   "outputs": [],
   "source": [
    "mat = scipy.io.loadmat('/home/aldo/Documents/Projects/Avtivemeter/Data/MCS_UWS_all_LombScargle_ultradian.mat')"
   ]
  },
  {
   "cell_type": "code",
   "execution_count": 10,
   "metadata": {},
   "outputs": [],
   "source": [
    "mcs = mat['table_results'][0][0][0]\n",
    "uws = mat['table_results'][0][0][1]\n",
    "emcs = mat['table_results'][0][0][2]\n",
    "lis = mat['table_results'][0][0][3]\n",
    "control = mat['table_results'][0][0][4]"
   ]
  },
  {
   "cell_type": "code",
   "execution_count": 11,
   "metadata": {},
   "outputs": [],
   "source": [
    "mcsp = {'Ultradian':mcs[:,0],'Power':mcs[:,1]}\n",
    "uwsp = {'Ultradian':uws[:,0],'Power':uws[:,1]}\n",
    "emcsp = {'Ultradian':emcs[:,0],'Power':emcs[:,1]}\n",
    "lisp = {'Ultradian':lis[:,0],'Power':lis[:,1]}\n",
    "controlp = {'Ultradian':control[:,0],'Power':control[:,1]}\n",
    "dfmcs=pd.DataFrame(mcsp)\n",
    "dfuws=pd.DataFrame(uwsp)\n",
    "dfemcs=pd.DataFrame(emcsp)\n",
    "dflis=pd.DataFrame(lisp)\n",
    "dfcontrol=pd.DataFrame(controlp)"
   ]
  },
  {
   "cell_type": "code",
   "execution_count": 12,
   "metadata": {},
   "outputs": [],
   "source": [
    "MCS = np.array('MCS')\n",
    "mcs_list = np.matlib.repmat(MCS,len(mcs),1)\n",
    "UWS = np.array('UWS')\n",
    "uws_list = np.matlib.repmat(UWS,len(uws),1)\n",
    "EMCS = np.array('EMCS')\n",
    "emcs_list = np.matlib.repmat(EMCS,len(emcs),1)\n",
    "LIS = np.array('LIS')\n",
    "lis_list = np.matlib.repmat(LIS,len(lis),1)\n",
    "CONTROL = np.array('CONTROL')\n",
    "control_list = np.matlib.repmat(CONTROL,len(control),1)"
   ]
  },
  {
   "cell_type": "code",
   "execution_count": 13,
   "metadata": {},
   "outputs": [],
   "source": [
    "dfmcs[\"Diagnosis\"] = mcs_list\n",
    "dfuws[\"Diagnosis\"] = uws_list\n",
    "dfemcs[\"Diagnosis\"] = emcs_list\n",
    "dflis[\"Diagnosis\"] = lis_list\n",
    "dfcontrol[\"Diagnosis\"] = control_list"
   ]
  },
  {
   "cell_type": "code",
   "execution_count": 14,
   "metadata": {},
   "outputs": [],
   "source": [
    "frames = [dfmcs, dfuws, dfemcs, dflis, dfcontrol]\n",
    "result_df = pd.concat(frames)"
   ]
  },
  {
   "cell_type": "markdown",
   "metadata": {},
   "source": [
    "## 4. - Error bar plot for MCS, UWS, EMCS, LIS, and Control"
   ]
  },
  {
   "cell_type": "code",
   "execution_count": 15,
   "metadata": {},
   "outputs": [
    {
     "data": {
      "image/png": "[encoded data removed]",
      "text/plain": [
       "<Figure size 360x360 with 1 Axes>"
      ]
     },
     "metadata": {},
     "output_type": "display_data"
    }
   ],
   "source": [
    "sns.set_style('darkgrid')\n",
    "sns.catplot(x=\"Diagnosis\", y=\"Power\", kind=\"bar\", data=result_df)\n",
    "plt.savefig('/home/aldo/Desktop/errorbar_plot_ultradian_all.jpg')"
   ]
  },
  {
   "cell_type": "code",
   "execution_count": null,
   "metadata": {},
   "outputs": [],
   "source": []
  }
 ],
 "metadata": {
  "kernelspec": {
   "display_name": "Python 2",
   "language": "python",
   "name": "python2"
  },
  "language_info": {
   "codemirror_mode": {
    "name": "ipython",
    "version": 2
   },
   "file_extension": ".py",
   "mimetype": "text/x-python",
   "name": "python",
   "nbconvert_exporter": "python",
   "pygments_lexer": "ipython2",
   "version": "2.7.14"
  }
 },
 "nbformat": 4,
 "nbformat_minor": 2
}
